{
 "cells": [
  {
   "cell_type": "markdown",
   "id": "fc0e4e6d-3b18-42b7-a660-27f0974abc4c",
   "metadata": {},
   "source": [
    "# MA3K7 - Assignment 2 Code\n",
    "## 2106657"
   ]
  },
  {
   "cell_type": "markdown",
   "id": "ebee145d-2e19-46ed-b4ed-9de55c2bc20f",
   "metadata": {
    "jp-MarkdownHeadingCollapsed": true
   },
   "source": [
    "### Necessary libraries, copies have been added to each cell so notebook can be forcestopped and independent cells can be run easier\n",
    "import numpy as np <br>\n",
    "import matplotlib.pyplot as plt <br>\n",
    "import random \n"
   ]
  },
  {
   "cell_type": "markdown",
   "id": "55e7ab22-69ac-4692-aa84-965d21d23d6e",
   "metadata": {
    "jp-MarkdownHeadingCollapsed": true
   },
   "source": [
    "### Two player text version of game"
   ]
  },
  {
   "cell_type": "code",
   "execution_count": 5,
   "id": "654c9068-f9b0-49e5-96fb-6f05ed670fca",
   "metadata": {},
   "outputs": [
    {
     "name": "stdout",
     "output_type": "stream",
     "text": [
      "Potential slections are [1, 2, 3, 4, 5, 6, 7, 8, 9]\n"
     ]
    },
    {
     "name": "stdin",
     "output_type": "stream",
     "text": [
      "choose next placement player 0 8\n"
     ]
    },
    {
     "data": {
      "image/png": "[encoded data removed]",
      "text/plain": [
       "<Figure size 200x200 with 1 Axes>"
      ]
     },
     "metadata": {},
     "output_type": "display_data"
    },
    {
     "name": "stdout",
     "output_type": "stream",
     "text": [
      "Potential selections now are [1, 2, 3, 4, 5, 6, 7, 9]\n"
     ]
    },
    {
     "name": "stdin",
     "output_type": "stream",
     "text": [
      "choose next placement player 1 7\n"
     ]
    },
    {
     "data": {
      "image/png": "[encoded data removed]",
      "text/plain": [
       "<Figure size 200x200 with 1 Axes>"
      ]
     },
     "metadata": {},
     "output_type": "display_data"
    },
    {
     "name": "stdout",
     "output_type": "stream",
     "text": [
      "Potential selections now are [1, 2, 3, 4, 5, 6, 9]\n"
     ]
    },
    {
     "name": "stdin",
     "output_type": "stream",
     "text": [
      "choose next placement player 0 3\n"
     ]
    },
    {
     "data": {
      "image/png": "[encoded data removed]",
      "text/plain": [
       "<Figure size 200x200 with 1 Axes>"
      ]
     },
     "metadata": {},
     "output_type": "display_data"
    },
    {
     "name": "stdout",
     "output_type": "stream",
     "text": [
      "Potential selections now are [1, 2, 4, 5, 6, 9]\n"
     ]
    },
    {
     "name": "stdin",
     "output_type": "stream",
     "text": [
      "choose next placement player 1 1\n"
     ]
    },
    {
     "data": {
      "image/png": "[encoded data removed]",
      "text/plain": [
       "<Figure size 200x200 with 1 Axes>"
      ]
     },
     "metadata": {},
     "output_type": "display_data"
    },
    {
     "name": "stdout",
     "output_type": "stream",
     "text": [
      "Potential selections now are [2, 4, 5, 6, 9]\n"
     ]
    },
    {
     "name": "stdin",
     "output_type": "stream",
     "text": [
      "choose next placement player 0 2\n"
     ]
    },
    {
     "data": {
      "image/png": "[encoded data removed]",
      "text/plain": [
       "<Figure size 200x200 with 1 Axes>"
      ]
     },
     "metadata": {},
     "output_type": "display_data"
    },
    {
     "name": "stdout",
     "output_type": "stream",
     "text": [
      "Potential selections now are [4, 5, 6, 9]\n"
     ]
    },
    {
     "name": "stdin",
     "output_type": "stream",
     "text": [
      "choose next placement player 1 4\n"
     ]
    },
    {
     "data": {
      "image/png": "[encoded data removed]",
      "text/plain": [
       "<Figure size 200x200 with 1 Axes>"
      ]
     },
     "metadata": {},
     "output_type": "display_data"
    },
    {
     "name": "stdout",
     "output_type": "stream",
     "text": [
      "Potential selections now are [5, 6, 9]\n"
     ]
    },
    {
     "name": "stdin",
     "output_type": "stream",
     "text": [
      "choose next placement player 0 5\n"
     ]
    },
    {
     "data": {
      "image/png": "[encoded data removed]",
      "text/plain": [
       "<Figure size 200x200 with 1 Axes>"
      ]
     },
     "metadata": {},
     "output_type": "display_data"
    },
    {
     "name": "stdout",
     "output_type": "stream",
     "text": [
      "Potential selections now are [6, 9]\n"
     ]
    },
    {
     "name": "stdin",
     "output_type": "stream",
     "text": [
      "choose next placement player 1 6\n"
     ]
    },
    {
     "data": {
      "image/png": "[encoded data removed]",
      "text/plain": [
       "<Figure size 200x200 with 1 Axes>"
      ]
     },
     "metadata": {},
     "output_type": "display_data"
    },
    {
     "name": "stdout",
     "output_type": "stream",
     "text": [
      "Potential selections now are [9]\n"
     ]
    },
    {
     "name": "stdin",
     "output_type": "stream",
     "text": [
      "choose next placement player 0 9\n"
     ]
    },
    {
     "data": {
      "image/png": "[encoded data removed]",
      "text/plain": [
       "<Figure size 200x200 with 1 Axes>"
      ]
     },
     "metadata": {},
     "output_type": "display_data"
    },
    {
     "name": "stdout",
     "output_type": "stream",
     "text": [
      "Potential selections now are []\n",
      "The final matrix is\n",
      "[[1 0 0]\n",
      " [1 0 1]\n",
      " [1 0 0]]\n",
      "The determinant is 0.0\n"
     ]
    }
   ],
   "source": [
    "import numpy as np\n",
    "import matplotlib.pyplot as plt \n",
    "import random\n",
    "\n",
    "# dimensions of matrix, by default 3, just replace with input box to change\n",
    "n = 3 #int(input(\"Choose dimensions of matrix))\n",
    "\n",
    "# randomly selecting who goes first\n",
    "player_go  = np.random.randint(0,2)\n",
    "\n",
    "# list of all potential entries that can be filled. \n",
    "matrix_entries = np.arange(1, n**2+1, 1)\n",
    "matrix_entries = matrix_entries.tolist()\n",
    "\n",
    "# setting up how many goes there are\n",
    "rounds_remaining = n**2\n",
    "\n",
    "# an equal array to above that will have the moves made added. Need to be distinct to allow for replacement, and negative differentiates an entered 1 and the array value\n",
    "entries_taken = np.arange(-n**2, 0, 1)\n",
    "entries_taken = np.flip(entries_taken)\n",
    "\n",
    "print(\"Potential slections are\", matrix_entries)\n",
    "\n",
    "# simple while loop for how many entries in the matrix there are\n",
    "while rounds_remaining > 0:\n",
    "    \n",
    "    entry = int(input(f\"choose next placement player {player_go}\"))\n",
    "\n",
    "# removing a move made from the moves remaining list\n",
    "    matrix_entries.remove(entry)\n",
    "\n",
    "# replacing the move made with either a 1 or 0 in the moves made list\n",
    "    entries_taken[entry- 1] = player_go\n",
    "\n",
    "# simple visualisation so players can see all moves made so far and those remaining\n",
    "    fig, ax = plt.subplots(figsize = (2,2))\n",
    "    ax.table(entries_taken.reshape([n,n]),bbox =[0,0.2,0.5,0.5])\n",
    "    ax.axes.get_xaxis().set_visible(False)\n",
    "    ax.axes.get_yaxis().set_visible(False)\n",
    "    ax.spines[['right', 'top', 'bottom', 'left']].set_visible(False)\n",
    "    plt.show()\n",
    "    \n",
    "#switching to other players turn\n",
    "    player_go = (player_go +1) % 2\n",
    "    print(\"Potential selections now are\",matrix_entries)\n",
    "    \n",
    "    rounds_remaining = rounds_remaining - 1\n",
    "    \n",
    "# outputting the final matrix with only entries and the determinant to show who won\n",
    "entries_taken = np.array(entries_taken)\n",
    "entries_taken = np.reshape(entries_taken,[n,n])\n",
    "print(\"The final matrix is\")\n",
    "print(entries_taken)\n",
    "print(\"The determinant is\", np.linalg.det(entries_taken))"
   ]
  },
  {
   "cell_type": "markdown",
   "id": "69b7415d-7401-4bdb-945f-7b3f43d6c384",
   "metadata": {
    "jp-MarkdownHeadingCollapsed": true
   },
   "source": [
    "### One player version, you play as 0"
   ]
  },
  {
   "cell_type": "code",
   "execution_count": 11,
   "id": "147fa620-6210-4f28-9272-2948e305db1e",
   "metadata": {},
   "outputs": [
    {
     "name": "stdout",
     "output_type": "stream",
     "text": [
      "Potential slections are [1, 2, 3, 4, 5, 6, 7, 8, 9]\n",
      "The computer selects 2\n"
     ]
    },
    {
     "data": {
      "image/png": "[encoded data removed]",
      "text/plain": [
       "<Figure size 200x200 with 1 Axes>"
      ]
     },
     "metadata": {},
     "output_type": "display_data"
    },
    {
     "name": "stdout",
     "output_type": "stream",
     "text": [
      "Potential selections now are [1, 3, 4, 5, 6, 7, 8, 9]\n"
     ]
    },
    {
     "name": "stdin",
     "output_type": "stream",
     "text": [
      "choose next placement player 0 1\n"
     ]
    },
    {
     "data": {
      "image/png": "[encoded data removed]",
      "text/plain": [
       "<Figure size 200x200 with 1 Axes>"
      ]
     },
     "metadata": {},
     "output_type": "display_data"
    },
    {
     "name": "stdout",
     "output_type": "stream",
     "text": [
      "The computer selects 4\n"
     ]
    },
    {
     "data": {
      "image/png": "[encoded data removed]",
      "text/plain": [
       "<Figure size 200x200 with 1 Axes>"
      ]
     },
     "metadata": {},
     "output_type": "display_data"
    },
    {
     "name": "stdout",
     "output_type": "stream",
     "text": [
      "Potential selections now are [3, 5, 6, 7, 8, 9]\n"
     ]
    },
    {
     "name": "stdin",
     "output_type": "stream",
     "text": [
      "choose next placement player 0 5\n"
     ]
    },
    {
     "data": {
      "image/png": "[encoded data removed]",
      "text/plain": [
       "<Figure size 200x200 with 1 Axes>"
      ]
     },
     "metadata": {},
     "output_type": "display_data"
    },
    {
     "name": "stdout",
     "output_type": "stream",
     "text": [
      "The computer selects 9\n"
     ]
    },
    {
     "data": {
      "image/png": "[encoded data removed]",
      "text/plain": [
       "<Figure size 200x200 with 1 Axes>"
      ]
     },
     "metadata": {},
     "output_type": "display_data"
    },
    {
     "name": "stdout",
     "output_type": "stream",
     "text": [
      "Potential selections now are [3, 6, 7, 8]\n"
     ]
    },
    {
     "name": "stdin",
     "output_type": "stream",
     "text": [
      "choose next placement player 0 6\n"
     ]
    },
    {
     "data": {
      "image/png": "[encoded data removed]",
      "text/plain": [
       "<Figure size 200x200 with 1 Axes>"
      ]
     },
     "metadata": {},
     "output_type": "display_data"
    },
    {
     "name": "stdout",
     "output_type": "stream",
     "text": [
      "The computer selects 7\n"
     ]
    },
    {
     "data": {
      "image/png": "[encoded data removed]",
      "text/plain": [
       "<Figure size 200x200 with 1 Axes>"
      ]
     },
     "metadata": {},
     "output_type": "display_data"
    },
    {
     "name": "stdout",
     "output_type": "stream",
     "text": [
      "Potential selections now are [3, 8]\n"
     ]
    },
    {
     "name": "stdin",
     "output_type": "stream",
     "text": [
      "choose next placement player 0 8\n"
     ]
    },
    {
     "data": {
      "image/png": "[encoded data removed]",
      "text/plain": [
       "<Figure size 200x200 with 1 Axes>"
      ]
     },
     "metadata": {},
     "output_type": "display_data"
    },
    {
     "name": "stdout",
     "output_type": "stream",
     "text": [
      "The computer selects 3\n"
     ]
    },
    {
     "data": {
      "image/png": "[encoded data removed]",
      "text/plain": [
       "<Figure size 200x200 with 1 Axes>"
      ]
     },
     "metadata": {},
     "output_type": "display_data"
    },
    {
     "name": "stdout",
     "output_type": "stream",
     "text": [
      "Potential selections now are []\n",
      "The final matrix is:\n",
      "[[0 1 1]\n",
      " [1 0 0]\n",
      " [1 0 1]]\n",
      "The determinant is -1.0\n"
     ]
    }
   ],
   "source": [
    "import numpy as np\n",
    "import matplotlib.pyplot as plt \n",
    "import random\n",
    "\n",
    "# dimensions of matrix, by default 3, just replace with input box to change\n",
    "n = 3 #int(input(\"Choose dimensions of matrix))\n",
    "\n",
    "# randomly selecting who goes first\n",
    "player_go  = np.random.randint(0,2)\n",
    "\n",
    "# list of all potential entries that can be filled. \n",
    "matrix_entries = np.arange(1, n**2 +1, 1)\n",
    "matrix_entries = matrix_entries.tolist()\n",
    "\n",
    "# setting up how many goes there are\n",
    "rounds_remaining = n**2\n",
    "\n",
    "# an equal array to above that will have the moves made added. Need to be distinct to allow for replacement, and negative differentiates an entered 1 and the array value\n",
    "entries_taken = np.arange(-n**2, 0, 1)\n",
    "entries_taken = np.flip(entries_taken)\n",
    "\n",
    "print(\"Potential slections are\", matrix_entries)\n",
    "\n",
    "# simple while loop for how many entries in the matrix there are\n",
    "while rounds_remaining > 0:\n",
    "\n",
    "# when its the player's go, the code runs the same as above\n",
    "    if player_go == 0:\n",
    "        entry = int(input(\"choose next placement player 0\"))\n",
    "        matrix_entries.remove(entry)\n",
    "        entries_taken[entry- 1] = player_go\n",
    "        \n",
    "        fig, ax = plt.subplots(figsize = (2,2))\n",
    "        ax.table(entries_taken.reshape([n,n]),bbox =[0,0.2,0.5,0.5])\n",
    "        ax.axes.get_xaxis().set_visible(False)\n",
    "        ax.axes.get_yaxis().set_visible(False)\n",
    "        ax.spines[['right', 'top', 'bottom', 'left']].set_visible(False)\n",
    "        plt.show()\n",
    "        \n",
    "        player_go = (player_go +1) % 2\n",
    "        rounds_remaining = rounds_remaining - 1\n",
    "\n",
    "# when it is the code's go\n",
    "    else:\n",
    "\n",
    "# randomly select an entry remaining\n",
    "        entry = random.choice(matrix_entries)\n",
    "\n",
    "# using the same method as for the players go but with the randomly selected input instead\n",
    "        print(\"The computer selects\", entry)\n",
    "        matrix_entries.remove(entry)\n",
    "        entries_taken[entry- 1] = player_go\n",
    "        \n",
    "        fig, ax = plt.subplots(figsize = (2,2))\n",
    "        ax.table(entries_taken.reshape([n,n]),bbox =[0,0.2,0.5,0.5])\n",
    "        ax.axes.get_xaxis().set_visible(False)\n",
    "        ax.axes.get_yaxis().set_visible(False)\n",
    "        ax.spines[['right', 'top', 'bottom', 'left']].set_visible(False)\n",
    "        plt.show()\n",
    "        \n",
    "        player_go = (player_go +1) % 2\n",
    "        print(\"Potential selections now are\",matrix_entries)\n",
    "        rounds_remaining = rounds_remaining - 1\n",
    "\n",
    "# outputting resulting matrix and determinant\n",
    "entries_taken = np.array(entries_taken)\n",
    "entries_taken = np.reshape(entries_taken,[n,n])\n",
    "print(\"The final matrix is:\")\n",
    "print(entries_taken)\n",
    "print(\"The determinant is\", np.linalg.det(entries_taken))"
   ]
  },
  {
   "cell_type": "markdown",
   "id": "e25202ad-a773-41fc-b800-ac1d8de22719",
   "metadata": {
    "jp-MarkdownHeadingCollapsed": true
   },
   "source": [
    "### One player version, you play as 1"
   ]
  },
  {
   "cell_type": "code",
   "execution_count": 10,
   "id": "87b92017-0463-4356-8706-d3f018ab04dd",
   "metadata": {},
   "outputs": [
    {
     "name": "stdout",
     "output_type": "stream",
     "text": [
      "Potential slections are [1, 2, 3, 4, 5, 6, 7, 8, 9]\n"
     ]
    },
    {
     "name": "stdin",
     "output_type": "stream",
     "text": [
      "choose next placement player 0 9\n"
     ]
    },
    {
     "data": {
      "image/png": "[encoded data removed]",
      "text/plain": [
       "<Figure size 200x200 with 1 Axes>"
      ]
     },
     "metadata": {},
     "output_type": "display_data"
    },
    {
     "name": "stdout",
     "output_type": "stream",
     "text": [
      "The computer selects 5\n"
     ]
    },
    {
     "data": {
      "image/png": "[encoded data removed]",
      "text/plain": [
       "<Figure size 200x200 with 1 Axes>"
      ]
     },
     "metadata": {},
     "output_type": "display_data"
    },
    {
     "name": "stdout",
     "output_type": "stream",
     "text": [
      "Potential selections now are [1, 2, 3, 4, 6, 7, 8]\n"
     ]
    },
    {
     "name": "stdin",
     "output_type": "stream",
     "text": [
      "choose next placement player 0 7\n"
     ]
    },
    {
     "data": {
      "image/png": "[encoded data removed]",
      "text/plain": [
       "<Figure size 200x200 with 1 Axes>"
      ]
     },
     "metadata": {},
     "output_type": "display_data"
    },
    {
     "name": "stdout",
     "output_type": "stream",
     "text": [
      "The computer selects 2\n"
     ]
    },
    {
     "data": {
      "image/png": "[encoded data removed]",
      "text/plain": [
       "<Figure size 200x200 with 1 Axes>"
      ]
     },
     "metadata": {},
     "output_type": "display_data"
    },
    {
     "name": "stdout",
     "output_type": "stream",
     "text": [
      "Potential selections now are [1, 3, 4, 6, 8]\n"
     ]
    },
    {
     "name": "stdin",
     "output_type": "stream",
     "text": [
      "choose next placement player 0 6\n"
     ]
    },
    {
     "data": {
      "image/png": "[encoded data removed]",
      "text/plain": [
       "<Figure size 200x200 with 1 Axes>"
      ]
     },
     "metadata": {},
     "output_type": "display_data"
    },
    {
     "name": "stdout",
     "output_type": "stream",
     "text": [
      "The computer selects 4\n"
     ]
    },
    {
     "data": {
      "image/png": "[encoded data removed]",
      "text/plain": [
       "<Figure size 200x200 with 1 Axes>"
      ]
     },
     "metadata": {},
     "output_type": "display_data"
    },
    {
     "name": "stdout",
     "output_type": "stream",
     "text": [
      "Potential selections now are [1, 3, 8]\n"
     ]
    },
    {
     "name": "stdin",
     "output_type": "stream",
     "text": [
      "choose next placement player 0 3\n"
     ]
    },
    {
     "data": {
      "image/png": "[encoded data removed]",
      "text/plain": [
       "<Figure size 200x200 with 1 Axes>"
      ]
     },
     "metadata": {},
     "output_type": "display_data"
    },
    {
     "name": "stdout",
     "output_type": "stream",
     "text": [
      "The computer selects 1\n"
     ]
    },
    {
     "data": {
      "image/png": "[encoded data removed]",
      "text/plain": [
       "<Figure size 200x200 with 1 Axes>"
      ]
     },
     "metadata": {},
     "output_type": "display_data"
    },
    {
     "name": "stdout",
     "output_type": "stream",
     "text": [
      "Potential selections now are [8]\n"
     ]
    },
    {
     "name": "stdin",
     "output_type": "stream",
     "text": [
      "choose next placement player 0 8\n"
     ]
    },
    {
     "data": {
      "image/png": "[encoded data removed]",
      "text/plain": [
       "<Figure size 200x200 with 1 Axes>"
      ]
     },
     "metadata": {},
     "output_type": "display_data"
    },
    {
     "name": "stdout",
     "output_type": "stream",
     "text": [
      "The final matrix is:\n",
      "[[0 0 1]\n",
      " [0 0 1]\n",
      " [1 1 1]]\n",
      "The determinant is 0.0\n"
     ]
    }
   ],
   "source": [
    "import numpy as np\n",
    "import matplotlib.pyplot as plt \n",
    "import random\n",
    "\n",
    "# dimensions of matrix, by default 3, just replace with input box to change\n",
    "n = 3 #int(input(\"Choose dimensions of matrix))\n",
    "\n",
    "# randomly selecting who goes first\n",
    "player_go  = np.random.randint(0,2)\n",
    "\n",
    "# list of all potential entries that can be filled\n",
    "matrix_entries = np.arange(1, n**2 +1, 1)\n",
    "matrix_entries = matrix_entries.tolist()\n",
    "\n",
    "# setting up how many goes there are\n",
    "rounds_remaining = n**2\n",
    "\n",
    "# an equal array to above that will have the moves made added. Need to be distinct to allow for replacement, and negative differentiates an entered 1 and the array value\n",
    "entries_taken = np.arange(-n**2, 0, 1)\n",
    "entries_taken = np.flip(entries_taken)\n",
    "\n",
    "print(\"Potential slections are\", matrix_entries)\n",
    "\n",
    "# simple while loop for how many entries in the matrix there are\n",
    "while rounds_remaining > 0:\n",
    "\n",
    "# when its the player's go, the code runs the same as above\n",
    "    if player_go == 0:\n",
    "        \n",
    "        # randomly select an entry remaining\n",
    "        entry = random.choice(matrix_entries)\n",
    "\n",
    "# using the same method as for the players go but with the randomly selected input instead\n",
    "        print(\"The computer selects\", entry)\n",
    "        matrix_entries.remove(entry)\n",
    "        entries_taken[entry- 1] = player_go\n",
    "        \n",
    "        fig, ax = plt.subplots(figsize = (2,2))\n",
    "        ax.table(entries_taken.reshape([n,n]),bbox =[0,0.2,0.5,0.5])\n",
    "        ax.axes.get_xaxis().set_visible(False)\n",
    "        ax.axes.get_yaxis().set_visible(False)\n",
    "        ax.spines[['right', 'top', 'bottom', 'left']].set_visible(False)\n",
    "        plt.show()\n",
    "        \n",
    "        player_go = (player_go +1) % 2\n",
    "        print(\"Potential selections now are\",matrix_entries)\n",
    "        rounds_remaining = rounds_remaining - 1\n",
    "\n",
    "# when it is the code's go\n",
    "    else:\n",
    "        entry = int(input(\"choose next placement player 0\"))\n",
    "        matrix_entries.remove(entry)\n",
    "        entries_taken[entry- 1] = player_go\n",
    "        \n",
    "        fig, ax = plt.subplots(figsize = (2,2))\n",
    "        ax.table(entries_taken.reshape([n,n]),bbox =[0,0.2,0.5,0.5])\n",
    "        ax.axes.get_xaxis().set_visible(False)\n",
    "        ax.axes.get_yaxis().set_visible(False)\n",
    "        ax.spines[['right', 'top', 'bottom', 'left']].set_visible(False)\n",
    "        plt.show()\n",
    "        \n",
    "        player_go = (player_go +1) % 2\n",
    "        rounds_remaining = rounds_remaining - 1\n",
    "\n",
    "\n",
    "\n",
    "# outputting resulting matrix and determinant\n",
    "entries_taken = np.array(entries_taken)\n",
    "entries_taken = np.reshape(entries_taken,[n,n])\n",
    "print(\"The final matrix is:\")\n",
    "print(entries_taken)\n",
    "print(\"The determinant is\", np.linalg.det(entries_taken))"
   ]
  },
  {
   "cell_type": "code",
   "execution_count": null,
   "id": "9a152215-d9cd-46a4-9eed-2ac254e50011",
   "metadata": {},
   "outputs": [],
   "source": []
  }
 ],
 "metadata": {
  "kernelspec": {
   "display_name": "Python 3 (ipykernel)",
   "language": "python",
   "name": "python3"
  },
  "language_info": {
   "codemirror_mode": {
    "name": "ipython",
    "version": 3
   },
   "file_extension": ".py",
   "mimetype": "text/x-python",
   "name": "python",
   "nbconvert_exporter": "python",
   "pygments_lexer": "ipython3",
   "version": "3.11.7"
  }
 },
 "nbformat": 4,
 "nbformat_minor": 5
}
